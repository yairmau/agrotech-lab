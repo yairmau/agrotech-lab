{
 "cells": [
  {
   "cell_type": "markdown",
   "id": "entertaining-karaoke",
   "metadata": {},
   "source": [
    "# Agrotech Lab 71252\n",
    "\n",
    "## course structure\n",
    "\n",
    "* first 3 lectures with each of the 3 lecturers; **Eran Tan, Nimrod Schwartz, and Yair Mau**.\n",
    "\n",
    "![](https://img1.grunge.com/img/gallery/the-tragic-real-life-story-of-the-three-stooges/intro-1591645988.jpg)\n",
    "\n",
    "* Project development in groups of 2 for the rest of the semester. Weekly meetings with course TA (**Erez Feuer**) and with the lecturer responsible for the project.\n",
    "\n",
    "![](http://ieeeprojectschennai.com/sites/default/files/styles/page_cover/public/images/cover/Acquarimcompressore791.jpg?itok=y4OFgeMC)\n",
    "\n",
    "* Last class: project presentation and project submission\n",
    "\n",
    "![](http://www.iview-tech.com/images/interactive_touch_.jpg)\n",
    "\n",
    "---\n",
    "\n",
    "## guiding principles\n",
    "\n",
    "1. independence and initiative\n",
    " * we will throw you in at the deep end\n",
    " * you have to figure things out by yourselves\n",
    " * new ideas are welcome, the project will go as far as you want to take it\n",
    "2. openness\n",
    " * copying ideas/code/diagrams from other people on the internet is essential\n",
    " * you will also share your project with the world by the end of the semester\n",
    "\n",
    "---\n",
    "\n",
    "## invited guest: Tal Saadon \n",
    "\n",
    "---\n",
    "\n",
    "## technical considerations\n",
    "\n",
    "[Install Python](https://www.anaconda.com/products/individual)  \n",
    "[Markdown Cheatsheet](https://github.com/adam-p/markdown-here/wiki/Markdown-Here-Cheatsheet)  \n",
    "[GitHub](https://github.com/)\n",
    "\n",
    "---\n",
    "\n",
    "## Yair's project"
   ]
  },
  {
   "cell_type": "code",
   "execution_count": null,
   "id": "known-people",
   "metadata": {},
   "outputs": [],
   "source": []
  }
 ],
 "metadata": {
  "kernelspec": {
   "display_name": "Python 3",
   "language": "python",
   "name": "python3"
  },
  "language_info": {
   "codemirror_mode": {
    "name": "ipython",
    "version": 3
   },
   "file_extension": ".py",
   "mimetype": "text/x-python",
   "name": "python",
   "nbconvert_exporter": "python",
   "pygments_lexer": "ipython3",
   "version": "3.7.7"
  }
 },
 "nbformat": 4,
 "nbformat_minor": 5
}
