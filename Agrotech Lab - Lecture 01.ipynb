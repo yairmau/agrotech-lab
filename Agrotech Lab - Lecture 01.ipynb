{
 "cells": [
  {
   "cell_type": "markdown",
   "id": "chronic-statistics",
   "metadata": {},
   "source": [
    "# Agrotech Lab 71252\n",
    "\n",
    "## course structure\n",
    "\n",
    "* first 3 lectures with each of the 3 lecturers; **Eran Tan, Nimrod Schwartz, and Yair Mau**.\n",
    "\n",
    "![](https://img1.grunge.com/img/gallery/the-tragic-real-life-story-of-the-three-stooges/intro-1591645988.jpg)\n",
    "\n",
    "* Project development in groups of 2 for the rest of the semester. Weekly meetings with course TA (**Erez Feuer**) and with the lecturer responsible for the project.\n",
    "\n",
    "![](http://ieeeprojectschennai.com/sites/default/files/styles/page_cover/public/images/cover/Acquarimcompressore791.jpg?itok=y4OFgeMC)\n",
    "\n",
    "* Last class: project presentation and project submission\n",
    "\n",
    "![](http://www.iview-tech.com/images/interactive_touch_.jpg)\n",
    "\n",
    "---\n",
    "\n",
    "## guiding principles\n",
    "\n",
    "1. independence and initiative\n",
    " * we will throw you in at the deep end\n",
    " * you have to figure things out by yourselves\n",
    " * new ideas are welcome, the project will go as far as you want to take it\n",
    "2. openness\n",
    " * copying ideas/code/diagrams from other people on the internet is essential\n",
    " * you will also share your project with the world by the end of the semester\n",
    "\n",
    "\n",
    "--- \n",
    "\n",
    "\n",
    "## Learning outcomes\n",
    "\n",
    "On successful completion of this module, students should be able to:\n",
    "- Design and execute a simple experiment, that answers a clear scientific question.\n",
    "- Build an Arduino-based measuring device for data collection and real time analysis.\n",
    "- Analyze a dataset using a variety of statistical tools, such as interpolation, least square method, principal component analysis, etc.\n",
    "- Write a reproducible computer code for analyzing the dataset using the Jupyter Notebook platform.\n",
    "- Publish the experimental setup and data analysis on open platforms such as GitHub and Figshare. \n",
    "\n",
    "---\n",
    "\n",
    "## invited guest: Tal Saadon\n",
    "Tal is a Faculty of Agriculture alumnus (undergrad and master's), and he will tell us about his experience working in the private sector\n",
    "\n",
    "---\n",
    "\n",
    "## technical considerations\n",
    "\n",
    "[Install Python](https://www.anaconda.com/products/individual)  \n",
    "[Markdown Cheatsheet](https://github.com/adam-p/markdown-here/wiki/Markdown-Here-Cheatsheet)  \n",
    "[GitHub](https://github.com/)\n",
    "\n",
    "---\n",
    "\n",
    "## Yair's project: irrigation control system\n",
    "\n",
    "We will build a few kinds of irrigation control systems.\n",
    "\n",
    "1. [*very simple*] A fixed amount of water is given in fixed time intervals.\n",
    "1. [*simple*] irrigation is actuated by a soil moisture sensor. Whenever soil moisture goes below a pre-determined threshold, irrigation faucet is opened.\n",
    "1. [*more sofisticated*] irrigation is actuated by the weight of the pot where the plant grows in. When the weight goes down, it means that water evaporated, and irrigation water is needed to replenish what was lost. (How to deal with the mass of the plant that keeps growing?)\n",
    "1. [*your crazy ideas*] you can propose other methods, or to suggest modifications/improvements of the methods above\n",
    "\n",
    "Some of the tasks involve:  \n",
    "\n",
    "#### building a digital scale based on a load cell. [example](https://www.instructables.com/Arduino-Scale-With-5kg-Load-Cell-and-HX711-Amplifi/)\n",
    "![](https://content.instructables.com/ORIG/FNH/TBJG/J7UR7KS4/FNHTBJGJ7UR7KS4.jpg?auto=webp&frame=1&fit=bounds&md=6b62fec6202556ef9232f15b5fd7d63a)  \n",
    "\n",
    "\n",
    "#### setting up an ESP32 microcontrollers to receive data from the sensors make the necessary real-time calculations, and control irrigation.\n",
    "![](https://nettigo.eu/system/images/2934/original.JPG?1531917243)\n",
    "\n",
    "#### uploading real-time data to the cloud (e.g. [ThingSpeak](https://thingspeak.com/), [Blynk](https://blynk.io/)). Buzzword: IoT - Internet of Things.\n",
    "![](https://thingspeak.com/assets/thingspeak-education-b68f670427a5e3c36d647ccfb05c033a5d048f34a8b38700544401be93171e3c.jpg)\n",
    "\n",
    "---\n",
    "\n",
    "## Examples of projects\n",
    "\n",
    "[instructables](https://www.instructables.com/How-to-Make-Automatic-Irrigation-System-Using-Ardu/)  \n",
    "\n",
    "[GitHub](https://github.com/gradyh/GradyHillhouseGarduino)\n",
    "\n",
    "\n",
    "---\n",
    "\n",
    "\n",
    "## Extremely short intro to Jupyter Notebook\n",
    "\n",
    "There are **Markdown** cells and **Code** cells (let's assume Python3). \n",
    "\n",
    "I highly recommend Jake VanderPlas's [Python Data Science Handbook](https://jakevdp.github.io/PythonDataScienceHandbook/index.html). In includes:\n",
    "[Introduction to NumPy](https://jakevdp.github.io/PythonDataScienceHandbook/02.00-introduction-to-numpy.html)\n",
    "[Data Manipulation with Pandas](https://jakevdp.github.io/PythonDataScienceHandbook/03.00-introduction-to-pandas.html)\n",
    "[Visualization with Matplotlib](https://jakevdp.github.io/PythonDataScienceHandbook/04.00-introduction-to-matplotlib.html)\n",
    "\n",
    "\n",
    "#### Markdown\n",
    "A [very short](https://devhints.io/markdown) cheat sheet, and a [more detailed](https://github.com/adam-p/markdown-here/wiki/Markdown-Cheatsheet) cheat sheet.\n",
    "\n",
    "#### LaTeX\n",
    "A [short intorduction](https://www.math.ubc.ca/~pwalls/math-python/jupyter/latex/) for formulas in Jupyter Notebooks. You might need to write things such as\n",
    "\n",
    "$\\displaystyle x_\\pm = \\frac{-b \\pm \\sqrt{b^2 -4ac}}{2a}$"
   ]
  },
  {
   "cell_type": "code",
   "execution_count": 1,
   "id": "referenced-decision",
   "metadata": {},
   "outputs": [
    {
     "data": {
      "text/plain": [
       "8"
      ]
     },
     "execution_count": 1,
     "metadata": {},
     "output_type": "execute_result"
    }
   ],
   "source": [
    "# you can make simple calculations\n",
    "2+6"
   ]
  },
  {
   "cell_type": "code",
   "execution_count": 10,
   "id": "serial-future",
   "metadata": {},
   "outputs": [
    {
     "name": "stdout",
     "output_type": "stream",
     "text": [
      "[-10  -9  -8  -7  -6  -5  -4  -3  -2  -1   0   1   2   3   4   5   6   7\n",
      "   8   9]\n",
      "[100  81  64  49  36  25  16   9   4   1   0   1   4   9  16  25  36  49\n",
      "  64  81]\n"
     ]
    }
   ],
   "source": [
    "# you can manipulate arrays\n",
    "import numpy as np\n",
    "x = np.arange(-10, 10)\n",
    "y = x**2\n",
    "z = 0.2 * x**3\n",
    "print(x)\n",
    "print(y)"
   ]
  },
  {
   "cell_type": "code",
   "execution_count": 11,
   "id": "essential-drunk",
   "metadata": {},
   "outputs": [
    {
     "data": {
      "text/plain": [
       "[<matplotlib.lines.Line2D at 0x7ff0b04f0550>]"
      ]
     },
     "execution_count": 11,
     "metadata": {},
     "output_type": "execute_result"
    },
    {
     "data": {
      "image/png": "[encoded data removed]",
      "text/plain": [
       "<Figure size 432x288 with 1 Axes>"
      ]
     },
     "metadata": {
      "needs_background": "light"
     },
     "output_type": "display_data"
    }
   ],
   "source": [
    "# you can plot stuff\n",
    "import matplotlib.pyplot as plt\n",
    "plt.plot(x, y)\n",
    "plt.plot(x, z)"
   ]
  }
 ],
 "metadata": {
  "kernelspec": {
   "display_name": "Python 3",
   "language": "python",
   "name": "python3"
  },
  "language_info": {
   "codemirror_mode": {
    "name": "ipython",
    "version": 3
   },
   "file_extension": ".py",
   "mimetype": "text/x-python",
   "name": "python",
   "nbconvert_exporter": "python",
   "pygments_lexer": "ipython3",
   "version": "3.7.7"
  }
 },
 "nbformat": 4,
 "nbformat_minor": 5
}
